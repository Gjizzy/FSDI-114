{
 "cells": [
  {
   "cell_type": "markdown",
   "id": "6f4c6cd9",
   "metadata": {},
   "source": [
    "# FSDI 114 - Class 1\n",
    "\n",
    "\n"
   ]
  },
  {
   "cell_type": "markdown",
   "id": "9623462e",
   "metadata": {},
   "source": []
  },
  {
   "cell_type": "code",
   "execution_count": null,
   "id": "5cf77b79",
   "metadata": {},
   "outputs": [
    {
     "name": "stdout",
     "output_type": "stream",
     "text": [
      "Hello World\n"
     ]
    }
   ],
   "source": [
    "print(\"Hello World\")\n",
    "\n",
    "x = 10\n",
    "y = 11\n",
    "print(x+y)\n"
   ]
  },
  {
   "cell_type": "code",
   "execution_count": null,
   "id": "6553a54f",
   "metadata": {},
   "outputs": [
    {
     "ename": "SyntaxError",
     "evalue": "expected '(' (925486032.py, line 1)",
     "output_type": "error",
     "traceback": [
      "  \u001b[36mCell\u001b[39m\u001b[36m \u001b[39m\u001b[32mIn[12]\u001b[39m\u001b[32m, line 1\u001b[39m\n\u001b[31m    \u001b[39m\u001b[31mdef empty.function():\u001b[39m\n             ^\n\u001b[31mSyntaxError\u001b[39m\u001b[31m:\u001b[39m expected '('\n"
     ]
    }
   ],
   "source": [
    "def empty.function():\n",
    "#   variable = 10\n",
    "# total = variable - 5\n",
    "\n",
    "# def void_functions_with parameters(x,y):\n",
    "#   total = x\n",
    "#   print(total - y)\n",
    "\n",
    "# def function_with_return():\n",
    "#   variable = 10\n",
    "#   total = variable -5\n",
    "#   return total\n",
    "\n",
    "def functon_with_return_and_parameters(x,y):\n",
    "    return x - y\n",
    "\n",
    "# Variables ()\n",
    "numbers = [3,5,27,20,6,3,5,60]\n",
    "\n",
    "def find_total_numbers_from_collection(list):\n",
    "    total = 0\n",
    "    for item in list_numbers:\n",
    "        if item in list_nymbers:\n",
    "            if item % 2 == 0:\n",
    "                \n",
    "\n",
    "\n",
    "        return total"
   ]
  },
  {
   "cell_type": "code",
   "execution_count": null,
   "id": "fae95e4a",
   "metadata": {},
   "outputs": [],
   "source": [
    "# AAA Approach (Assessment, Assembly, Action)\n",
    "\n",
    "- Assessment: We want to ask meaningfull questions with the purpose of claryfing incorrect assumptions, edge cases we might have missed and specific criteria we do not know up ZipFile The class for reading and writing ZIP files.  See section \n",
    " -# Assembly: We want to design a solution by defined data structures, selecting or defining an algoirthm and trying to solve the problem as optimally as possible.\n",
    " - *Action:*code."
   ]
  },
  {
   "cell_type": "markdown",
   "id": "c1475cd3",
   "metadata": {},
   "source": [
    "# Problem 1\n",
    "\n",
    "### Find the total of numbersfrom a collection of numbers that divided by 2 the module is 0\n",
    "\n",
    "....\n",
    " Examples:\n",
    "1. Given [3,4,10,15,999,2] Then the output should be: total = 3\n",
    "2. Given[2,4,6,10,3,7] Then the output should be: total = 4\n",
    "....\n",
    "\n",
    " #### Criteria \n",
    " 1. Create a function that recievs a collection and return an integer with the total\n",
    "\n",
    "#### Hint\n",
    "- '%' is the arithematic operand to get the module from a division\n",
    "- 2 % 2 = 0\n",
    "\n",
    "The  collection of numbers is: numbers = [3,5,27,28,6,3,5,60]"
   ]
  },
  {
   "cell_type": "code",
   "execution_count": 10,
   "id": "196ef6c8",
   "metadata": {},
   "outputs": [
    {
     "name": "stdout",
     "output_type": "stream",
     "text": [
      "3\n"
     ]
    }
   ],
   "source": [
    "numbers = [3,5,27,28,6,60]\n",
    "\n",
    "def calculate_sum(num_list):\n",
    "    total = 0\n",
    "    for number in num_list:\n",
    "        total += number\n",
    "        return total\n",
    "answer = calculate_sum(numbers)\n",
    "print(answer)"
   ]
  }
 ],
 "metadata": {
  "kernelspec": {
   "display_name": "Python 3",
   "language": "python",
   "name": "python3"
  },
  "language_info": {
   "codemirror_mode": {
    "name": "ipython",
    "version": 3
   },
   "file_extension": ".py",
   "mimetype": "text/x-python",
   "name": "python",
   "nbconvert_exporter": "python",
   "pygments_lexer": "ipython3",
   "version": "3.13.7"
  }
 },
 "nbformat": 4,
 "nbformat_minor": 5
}
