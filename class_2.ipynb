{
 "cells": [
  {
   "cell_type": "markdown",
   "id": "36389df4",
   "metadata": {},
   "source": []
  },
  {
   "cell_type": "markdown",
   "id": "9e244f32",
   "metadata": {},
   "source": [
    "# Problems 1\n",
    "\n",
    "### Anagram Check\n",
    "\n",
    "#Create an function that takes two strings as parameters and returns True if they are anagrams of each other ,False otherwise.\n",
    "\"\"\"\n",
    "  Examples:\n",
    "1. heart and earth\n",
    "2. scar and cars\n",
    "3. star and rats\n",
    "4. etc\n",
    "\n",
    " ### Criteria\n",
    " Two strings are anagrams of each other if and if all the criteria below are met:\n",
    " > 1. They must use all the characetritics\n",
    " > 2. They must be exactly the same length (in characters)\n",
    "\"\"\""
   ]
  },
  {
   "cell_type": "code",
   "execution_count": null,
   "id": "e3e42876",
   "metadata": {},
   "outputs": [],
   "source": []
  },
  {
   "cell_type": "code",
   "execution_count": null,
   "id": "fc16e19f",
   "metadata": {},
   "outputs": [],
   "source": [
    "def check_anagrams(w1,w2): #0(1)\n",
    "    w1 = w1.replace(\" \",\"\").lower() #0(1)\n",
    "    w2 = w2.replace(\" \", \"\").lower()    #0(1)\n",
    "    dict1 = {}  #0(1)\n",
    "    dict2 = {}  #0(1)\n",
    "\n",
    "    if len(w1) == len(w2):  #0(1)\n",
    "        for letter in w1:   #0(n)\n",
    "            if dict1.get(letter) == None:   #0(1)\n",
    "                dict1[letter] = 1   #0(1)\n",
    "            else:\n",
    "                dict1[letter] += 1\n",
    "\n",
    "        for letter in w2:   #0(n)\n",
    "            if dict2.get(letter) == None:\n",
    "                dict2[letter] = 1   \n",
    "            else:\n",
    "                 dict2[letter] += 1\n",
    "\n",
    "        return dict1 == dict2   #0(1)\n",
    "    else:\n",
    "        return False\n",
    "    \n",
    "check_anagrams(\"rats\",\"star\")   #0(1)\n",
    "    \n",
    "#0(2n + 1) -> 0(n)\n",
    "# Stack\n",
    "class Stack:\n",
    "    def __init__(self):\n",
    "        self.items=[]\n",
    "\n",
    "\n",
    "    def push(self, item):\n",
    "        self.items.append(item)\n",
    "\n",
    "    def pop(self):\n",
    "        if not self.is_empty():\n",
    "            return self.items.pop()\n",
    "        return None\n",
    "    \n",
    "# peek, is_empty, size."
   ]
  },
  {
   "cell_type": "code",
   "execution_count": 39,
   "id": "5b7c2fd8",
   "metadata": {},
   "outputs": [
    {
     "ename": "AttributeError",
     "evalue": "'int' object has no attribute 'replace'",
     "output_type": "error",
     "traceback": [
      "\u001b[31m---------------------------------------------------------------------------\u001b[39m",
      "\u001b[31mAttributeError\u001b[39m                            Traceback (most recent call last)",
      "\u001b[36mCell\u001b[39m\u001b[36m \u001b[39m\u001b[32mIn[39]\u001b[39m\u001b[32m, line 6\u001b[39m\n\u001b[32m      4\u001b[39m \u001b[38;5;28;01mfor\u001b[39;00m item \u001b[38;5;129;01min\u001b[39;00m x:\n\u001b[32m      5\u001b[39m     \u001b[38;5;28;01mfor\u001b[39;00m item2 \u001b[38;5;129;01min\u001b[39;00m y: \u001b[38;5;66;03m#0(n^2)\u001b[39;00m\n\u001b[32m----> \u001b[39m\u001b[32m6\u001b[39m         \u001b[43mcheck_anagrams\u001b[49m\u001b[43m(\u001b[49m\u001b[43mitem\u001b[49m\u001b[43m,\u001b[49m\u001b[43m \u001b[49m\u001b[43mitem2\u001b[49m\u001b[43m)\u001b[49m \u001b[38;5;66;03m#0(1)\u001b[39;00m\n\u001b[32m      7\u001b[39m     \u001b[38;5;28;01mif\u001b[39;00m item == \u001b[32m1\u001b[39m: \u001b[38;5;66;03m#0(1)\u001b[39;00m\n\u001b[32m      8\u001b[39m         check_other_anagrams(item) \u001b[38;5;66;03m#0(1)\u001b[39;00m\n",
      "\u001b[36mCell\u001b[39m\u001b[36m \u001b[39m\u001b[32mIn[38]\u001b[39m\u001b[32m, line 2\u001b[39m, in \u001b[36mcheck_anagrams\u001b[39m\u001b[34m(w1, w2)\u001b[39m\n\u001b[32m      1\u001b[39m \u001b[38;5;28;01mdef\u001b[39;00m\u001b[38;5;250m \u001b[39m\u001b[34mcheck_anagrams\u001b[39m(w1,w2):\n\u001b[32m----> \u001b[39m\u001b[32m2\u001b[39m     w1 = \u001b[43mw1\u001b[49m\u001b[43m.\u001b[49m\u001b[43mreplace\u001b[49m(\u001b[33m\"\u001b[39m\u001b[33m \u001b[39m\u001b[33m\"\u001b[39m,\u001b[33m\"\u001b[39m\u001b[33m\"\u001b[39m).lower()\n\u001b[32m      3\u001b[39m     w2 = w2.replace(\u001b[33m\"\u001b[39m\u001b[33m \u001b[39m\u001b[33m\"\u001b[39m, \u001b[33m\"\u001b[39m\u001b[33m\"\u001b[39m).lower()\n\u001b[32m      4\u001b[39m     dict1 = {}\n",
      "\u001b[31mAttributeError\u001b[39m: 'int' object has no attribute 'replace'"
     ]
    }
   ],
   "source": [
    "x = [1,2,3] #0(1)\n",
    "y = [4,5,6] #0(1)\n",
    "\n",
    "for item in x:\n",
    "    for item2 in y: #0(n^2)\n",
    "        check_anagrams(item, item2) #0(1)\n",
    "    if item == 1: #0(1)\n",
    "        check_other_anagrams(item) #0(1)\n",
    "\n",
    "# Big O Notation - O(n^2)"
   ]
  }
 ],
 "metadata": {
  "kernelspec": {
   "display_name": "Python 3",
   "language": "python",
   "name": "python3"
  },
  "language_info": {
   "codemirror_mode": {
    "name": "ipython",
    "version": 3
   },
   "file_extension": ".py",
   "mimetype": "text/x-python",
   "name": "python",
   "nbconvert_exporter": "python",
   "pygments_lexer": "ipython3",
   "version": "3.13.7"
  }
 },
 "nbformat": 4,
 "nbformat_minor": 5
}
