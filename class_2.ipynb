{
 "cells": [
  {
   "cell_type": "markdown",
   "id": "36389df4",
   "metadata": {},
   "source": []
  },
  {
   "cell_type": "markdown",
   "id": "9e244f32",
   "metadata": {},
   "source": [
    "# Problems 1\n",
    "\n",
    "### Anagram Check\n",
    "\n",
    "#Create an function that takes two strings as parameters and returns True if they are anagrams of each other ,False otherwise.\n",
    "\"\"\"\n",
    "  Examples:\n",
    "1. heart and earth\n",
    "2. scar and cars\n",
    "3. star and rats\n",
    "4. etc\n",
    "\n",
    " ### Criteria\n",
    " Two strings are anagrams of each other if and if all the criteria below are met:\n",
    " > 1. They must use all the characetritics\n",
    " > 2. They must be exactly the same length (in characters)\n",
    "\"\"\""
   ]
  },
  {
   "cell_type": "code",
   "execution_count": null,
   "id": "fc16e19f",
   "metadata": {},
   "outputs": [
    {
     "data": {
      "text/plain": [
       "True"
      ]
     },
     "execution_count": 36,
     "metadata": {},
     "output_type": "execute_result"
    }
   ],
   "source": [
    "def check_anagrams(w1,w2):\n",
    "    w1 = w1.replace(\" \",\"\").lower()\n",
    "    w2 = w2.replace(\" \", \"\").lower()\n",
    "    dict1 = {}\n",
    "    dict2 = {}\n",
    "\n",
    "    if len(w1) == len(w2):\n",
    "        for letter in w1:\n",
    "            if dict1.get(letter) == None:\n",
    "                dict1[letter] = 1\n",
    "            else:\n",
    "                dict1[letter] += 1\n",
    "\n",
    "        for letter in w2:\n",
    "            if dict2.get(letter) == None:\n",
    "                dict2[letter] = 1\n",
    "            else:\n",
    "                 dict2[letter] += 1\n",
    "\n",
    "        return dict1 == dict2\n",
    "    else:\n",
    "        return False\n",
    "    \n",
    "check_anagrams(\"rats\",\"star\")\n",
    "    \n",
    "# Stack\n",
    "class Stack:\n",
    "    def __init__(self):\n",
    "        self.items=[]\n",
    "\n",
    "\n",
    "    def push(self, item):\n",
    "        self.items.append(item)\n",
    "\n",
    "    def pop(self):\n",
    "        if not self.is_empty():\n",
    "            return self.items.pop()\n",
    "        return None\n",
    "    \n",
    "# peek, is_empty, size."
   ]
  }
 ],
 "metadata": {
  "kernelspec": {
   "display_name": "Python 3",
   "language": "python",
   "name": "python3"
  },
  "language_info": {
   "codemirror_mode": {
    "name": "ipython",
    "version": 3
   },
   "file_extension": ".py",
   "mimetype": "text/x-python",
   "name": "python",
   "nbconvert_exporter": "python",
   "pygments_lexer": "ipython3",
   "version": "3.13.7"
  }
 },
 "nbformat": 4,
 "nbformat_minor": 5
}
