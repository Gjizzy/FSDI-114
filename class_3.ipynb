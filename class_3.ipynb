{
 "cells": [
  {
   "cell_type": "markdown",
   "id": "a3cbfc40",
   "metadata": {},
   "source": [
    "    Class 3-OOP Basics and DSA(Nodes and Linked List)"
   ]
  },
  {
   "cell_type": "markdown",
   "id": "e69cd8e8",
   "metadata": {},
   "source": [
    "    OOP - Object Oriented Programming Python is an object-oriented language, allowing you to structure your codes using classes and objects for better orgaanization and reusability."
   ]
  },
  {
   "cell_type": "markdown",
   "id": "73ed0c3a",
   "metadata": {},
   "source": [
    "Advantages:"
   ]
  },
  {
   "cell_type": "markdown",
   "id": "74d8a9ee",
   "metadata": {},
   "source": [
    "Provides a clear structure tp programs\n",
    "Makes code easier to maintain, reuse and debug\n",
    "Helps keep your code DRY(Do not Repeat Yourself)\n",
    "Allows to build reusable application with less code."
   ]
  },
  {
   "cell_type": "markdown",
   "id": "e7fec5d3",
   "metadata": {},
   "source": [
    "    ### Classes and Objects\n",
    "\n",
    "    A class defines what an object should look like and an object is created based on that class.\n",
    "    For example:\n",
    "    Class --> Apple, Banana, Mango\n",
    "\n",
    "    Class ->Car Objects -> Audi, Tesla, Toyota"
   ]
  },
  {
   "cell_type": "markdown",
   "id": "994623f1",
   "metadata": {},
   "source": [
    "    The four pilalars of OOP"
   ]
  },
  {
   "cell_type": "markdown",
   "id": "9967e7cc",
   "metadata": {},
   "source": []
  },
  {
   "cell_type": "markdown",
   "id": "85335a53",
   "metadata": {},
   "source": [
    "Encapsulation\n",
    "Abstraction\n",
    "Inheritance\n",
    "Polymorphism"
   ]
  },
  {
   "cell_type": "markdown",
   "id": "7d9e2d0b",
   "metadata": {},
   "source": []
  },
  {
   "cell_type": "code",
   "execution_count": 3,
   "id": "34f02a8e",
   "metadata": {},
   "outputs": [
    {
     "ename": "NameError",
     "evalue": "name 'Myclass' is not defined",
     "output_type": "error",
     "traceback": [
      "\u001b[31m---------------------------------------------------------------------------\u001b[39m",
      "\u001b[31mNameError\u001b[39m                                 Traceback (most recent call last)",
      "\u001b[36mCell\u001b[39m\u001b[36m \u001b[39m\u001b[32mIn[3]\u001b[39m\u001b[32m, line 6\u001b[39m\n\u001b[32m      1\u001b[39m \u001b[38;5;66;03m# Syntax\u001b[39;00m\n\u001b[32m      2\u001b[39m \u001b[38;5;66;03m# Reserved keyword 'class' + name of the class\u001b[39;00m\n\u001b[32m      3\u001b[39m \u001b[38;5;66;03m# Note: the name of the class should follow the Pascal Case notation\u001b[39;00m\n\u001b[32m      4\u001b[39m \n\u001b[32m      5\u001b[39m \u001b[38;5;66;03m# Contructor - Is always executed when the class is being initiated\u001b[39;00m\n\u001b[32m----> \u001b[39m\u001b[32m6\u001b[39m \u001b[38;5;28;43;01mclass\u001b[39;49;00m\u001b[38;5;250;43m \u001b[39;49m\u001b[34;43;01mMyClass\u001b[39;49;00m\u001b[43m:\u001b[49m\n\u001b[32m      7\u001b[39m \u001b[43m    \u001b[49m\u001b[43mx\u001b[49m\u001b[43m \u001b[49m\u001b[43m=\u001b[49m\u001b[43m \u001b[49m\u001b[32;43m5\u001b[39;49m\n\u001b[32m      9\u001b[39m \u001b[43m    \u001b[49m\u001b[43mp1\u001b[49m\u001b[43m \u001b[49m\u001b[43m=\u001b[49m\u001b[43m \u001b[49m\u001b[43mMyclass\u001b[49m\u001b[43m(\u001b[49m\u001b[43m)\u001b[49m\n",
      "\u001b[36mCell\u001b[39m\u001b[36m \u001b[39m\u001b[32mIn[3]\u001b[39m\u001b[32m, line 9\u001b[39m, in \u001b[36mMyClass\u001b[39m\u001b[34m()\u001b[39m\n\u001b[32m      6\u001b[39m \u001b[38;5;28;01mclass\u001b[39;00m\u001b[38;5;250m \u001b[39m\u001b[34;01mMyClass\u001b[39;00m:\n\u001b[32m      7\u001b[39m     x = \u001b[32m5\u001b[39m\n\u001b[32m----> \u001b[39m\u001b[32m9\u001b[39m     p1 = \u001b[43mMyclass\u001b[49m()\n\u001b[32m     10\u001b[39m     p2 = Myclass()\n\u001b[32m     11\u001b[39m     p3 = Myclass()\n",
      "\u001b[31mNameError\u001b[39m: name 'Myclass' is not defined"
     ]
    }
   ],
   "source": [
    "# Syntax\n",
    "# Reserved keyword 'class' + name of the class\n",
    "# Note: the name of the class should follow the Pascal Case notation\n",
    "\n",
    "# Contructor - Is always executed when the class is being initiated\n",
    "class MyClass:\n",
    "    x = 5\n",
    "\n",
    "    p1 = Myclass()\n",
    "    p2 = Myclass()\n",
    "    p3 = Myclass()\n",
    "    print(p1.x)\n",
    "    print(p2.x)\n",
    "    print(p3.x)"
   ]
  },
  {
   "cell_type": "code",
   "execution_count": null,
   "id": "b418f1dd",
   "metadata": {},
   "outputs": [
    {
     "ename": "SyntaxError",
     "evalue": "invalid syntax (2639612985.py, line 3)",
     "output_type": "error",
     "traceback": [
      "  \u001b[36mCell\u001b[39m\u001b[36m \u001b[39m\u001b[32mIn[8]\u001b[39m\u001b[32m, line 3\u001b[39m\n\u001b[31m    \u001b[39m\u001b[31mdef__init__(self,name, age):\u001b[39m\n                               ^\n\u001b[31mSyntaxError\u001b[39m\u001b[31m:\u001b[39m invalid syntax\n"
     ]
    }
   ],
   "source": [
    "class Person:\n",
    "    #Constructor -- Executes when initializing an object\n",
    "    def__init__(self,name, age):\n",
    "        self.name = name\n",
    "        self.age = age\n",
    "    \n",
    "    #To String -- returns the values of the object instead of the memory location\n",
    "    def__str__(self):\n",
    "        return f\"{self.name} {self.age}\"\n",
    "\n",
    "    p1 = Person(\"Luis\",24)\n",
    "    p2 = Person(\"Alexander\",36)\n",
    "    print(p1)\n",
    "    print(p2)\n",
    "\n",
    "    p1.my_func()\n",
    "    p1.age = 28\n",
    "    print(p1)\n",
    "\n",
    "\n",
    "class Node:\n",
    "    def_init_(self.data.next):\n",
    "    self.data = data\n",
    "    self.data = next\n",
    "\n",
    "class LinkedList:\n",
    "    def_init_(self):\n",
    "        self.head = None\n",
    "    \n",
    "    def insert_at_beginning(self.data):\n",
    "        node = Node(data, self.head)\n",
    "        self.head = node\n",
    "\n",
    "        def insert_at_end(self.data):\n",
    "            if self.head is None:\n",
    "                self.head is None:\n",
    "                self.head = Node(data, None)\n",
    "                return\n",
    "            \n",
    "            itr = self.head \n",
    "            while itr.next:\n",
    "                itr = itr.next\n",
    "\n",
    "                itr.next = Node(data,None)\n",
    "\n",
    "            def print(self)\n",
    "                if self.head is None:\n",
    "                    print(\"Linked List is EMpty!\")\n",
    "                    return\n",
    "                current = self.head\n",
    "                nodes_str = ''\n",
    "                while current:\n",
    "                    nodes_str += str(current.data) + '-->'\n",
    "                    current = current.next\n",
    "                return nodes_str + \"None\"\n",
    "            \n",
    "            def length(self):\n",
    "                count = 0\n",
    "                current = self.head\n",
    "                while current:\n",
    "                    count += 1\n",
    "                    current = current.next\n",
    "                return count\n",
    "\n",
    "            def print(self):\n",
    "                #TO DO: Implement the logic\n",
    "                # Check if the linked is not empty if it is, print a message\n",
    "                # \"It's empty\" otherwise iterate through the nodes and collect\n",
    "                # the data value in another variable and print that in the console\n",
    "                # Final Output: 20 --> 298 --> 3 ->\n",
    "                pass\n",
    "\n",
    "\n",
    "        linked_list = LinkedList()\n",
    "        linked_list.insert_at_beginning(298)\n",
    "        linked_list.insert_at_beginning(20)\n",
    "        linked_list.insert_at_end(3)\n",
    "        linked_list.print()\n",
    "        print(linked_list.length())\n",
    "        print(linked_list)\n",
    "        \n"
   ]
  },
  {
   "cell_type": "code",
   "execution_count": 9,
   "id": "d18af0ac",
   "metadata": {},
   "outputs": [
    {
     "ename": "SyntaxError",
     "evalue": "invalid syntax (114784401.py, line 3)",
     "output_type": "error",
     "traceback": [
      "  \u001b[36mCell\u001b[39m\u001b[36m \u001b[39m\u001b[32mIn[9]\u001b[39m\u001b[32m, line 3\u001b[39m\n\u001b[31m    \u001b[39m\u001b[31mDs is about how data can be stored in differant structures (accessing, searching, inserting and deleting)\u001b[39m\n                ^\n\u001b[31mSyntaxError\u001b[39m\u001b[31m:\u001b[39m invalid syntax\n"
     ]
    }
   ],
   "source": [
    "# Data Structures\n",
    "\n",
    "Ds is about how data can be stored in differant structures (accessing, searching, inserting and deleting)\n",
    "\n",
    "Algorithms is about how to solve differnat problems, often by searching through and manipulating data structures"
   ]
  },
  {
   "cell_type": "markdown",
   "id": "8fdfe760",
   "metadata": {},
   "source": [
    "Data Structures and Algorithms (DSA)"
   ]
  },
  {
   "cell_type": "markdown",
   "id": "018a7817",
   "metadata": {},
   "source": [
    "DS is about how data can be stored in differant structures (accessing, searching, inserting and deleting)\n",
    "Algorithms is about how to solve differant problems, often by searching through and manipulating data structures"
   ]
  },
  {
   "cell_type": "markdown",
   "id": "23c86421",
   "metadata": {},
   "source": [
    "Nodes and SLL(Single Linked -Lists)"
   ]
  },
  {
   "cell_type": "markdown",
   "id": "26ed97ca",
   "metadata": {},
   "source": [
    "Differnces between arrays and linkedd lists:\n",
    "\n",
    "1.We dont need to preallocate space\n",
    "2.Insertion it's easy"
   ]
  },
  {
   "cell_type": "code",
   "execution_count": 12,
   "id": "084a77aa",
   "metadata": {},
   "outputs": [
    {
     "name": "stdout",
     "output_type": "stream",
     "text": [
      "(298, 305, 320, 301, 292)\n"
     ]
    },
    {
     "ename": "AttributeError",
     "evalue": "'tuple' object has no attribute 'insert'",
     "output_type": "error",
     "traceback": [
      "\u001b[31m---------------------------------------------------------------------------\u001b[39m",
      "\u001b[31mAttributeError\u001b[39m                            Traceback (most recent call last)",
      "\u001b[36mCell\u001b[39m\u001b[36m \u001b[39m\u001b[32mIn[12]\u001b[39m\u001b[32m, line 12\u001b[39m\n\u001b[32m      4\u001b[39m \u001b[38;5;28mprint\u001b[39m(stock_prices)\n\u001b[32m      5\u001b[39m \u001b[33;03m\"\"\"\"\u001b[39;00m\n\u001b[32m      6\u001b[39m \u001b[33;03m[290] -> 0x00500 -> 0\u001b[39;00m\n\u001b[32m      7\u001b[39m \u001b[33;03m[305] -> 0x00504 -> 1\u001b[39;00m\n\u001b[32m   (...)\u001b[39m\u001b[32m     10\u001b[39m \u001b[33;03m[292] -> 0x0050F -> 4\u001b[39;00m\n\u001b[32m     11\u001b[39m \u001b[33;03m\"\"\"\u001b[39;00m\n\u001b[32m---> \u001b[39m\u001b[32m12\u001b[39m \u001b[43mstock_prices\u001b[49m\u001b[43m.\u001b[49m\u001b[43minsert\u001b[49m(\u001b[32m1\u001b[39m,\u001b[32m284\u001b[39m)\n\u001b[32m     14\u001b[39m \u001b[38;5;66;03m# Insertion = 0(n)\u001b[39;00m\n\u001b[32m     15\u001b[39m \u001b[38;5;66;03m# [298] -> 0x00500\u001b[39;00m\n\u001b[32m     16\u001b[39m \u001b[38;5;66;03m# [284] -> ?\u001b[39;00m\n\u001b[32m   (...)\u001b[39m\u001b[32m     23\u001b[39m \u001b[38;5;66;03m# ...\u001b[39;00m\n\u001b[32m     24\u001b[39m \u001b[38;5;66;03m# [?] -> 0x00600\u001b[39;00m\n\u001b[32m     26\u001b[39m \u001b[38;5;28mprint\u001b[39m(stock_prices)\n",
      "\u001b[31mAttributeError\u001b[39m: 'tuple' object has no attribute 'insert'"
     ]
    }
   ],
   "source": [
    "# Arrays\n",
    "\n",
    "stock_prices = (298,305,320,301,292)\n",
    "print(stock_prices)\n",
    "\"\"\"\"\n",
    "[290] -> 0x00500 -> 0\n",
    "[305] -> 0x00504 -> 1\n",
    "[320] -> 0x00508 -> 2\n",
    "[301] -> 0x0050A -> 3\n",
    "[292] -> 0x0050F -> 4\n",
    "\"\"\"\n",
    "stock_prices.insert(1,284)\n",
    "\n",
    "# Insertion = 0(n)\n",
    "# [298] -> 0x00500\n",
    "# [284] -> ?\n",
    "# [305] ->0x00508\n",
    "# [320] -> 0x0050A\n",
    "# [301] -> 0x0050F\n",
    "# [292] -> 0x00510\n",
    "# [?] -> 0x00514\n",
    "# [?] -> 0x00518\n",
    "# ...\n",
    "# [?] -> 0x00600\n",
    "\n",
    "print(stock_prices)"
   ]
  },
  {
   "cell_type": "code",
   "execution_count": 13,
   "id": "bcfbf695",
   "metadata": {},
   "outputs": [
    {
     "ename": "SyntaxError",
     "evalue": "unmatched ')' (1309560074.py, line 17)",
     "output_type": "error",
     "traceback": [
      "  \u001b[36mCell\u001b[39m\u001b[36m \u001b[39m\u001b[32mIn[13]\u001b[39m\u001b[32m, line 17\u001b[39m\n\u001b[31m    \u001b[39m\u001b[31mdef__init__self.data.next):\u001b[39m\n                             ^\n\u001b[31mSyntaxError\u001b[39m\u001b[31m:\u001b[39m unmatched ')'\n"
     ]
    }
   ],
   "source": [
    "# Single Linked-Lists\n",
    "\n",
    "# Node -> [data | link]\n",
    "\"\"\"\"\n",
    "0x00508         0x00A1     0x00CS      0x007     0x00C0\n",
    "[298 | 0x00A1]   -> [305 | 0x00CS] -> [320 |0x0007] -> [301 | 0x00C0] ->  [292 | null)\n",
    "0    1                   2                 3                4                  5\n",
    "\n",
    "Insert Element at beginning = 0(1)\n",
    "Delet element at beginning = 0(1)\n",
    "Insert/Delete Element at the end = 0(n)\n",
    "Linked List Traversal = 0(n)\n",
    "Accessing Element by value = 0(n)\n",
    "\"\"\"\n",
    "\n",
    "class Node:\n",
    "    def__init__self.data.next):\n",
    "        self.data = data\n",
    "        self.next =next\n",
    "    \n",
    "    class LinkedList:\n",
    "        def__init__(self):\n",
    "            self.hand = None\n",
    "        \n",
    "        def insert_at_beginning(self.data):\n",
    "            node = Node(data, self.head)\n",
    "            self.head = node\n",
    "            \n",
    "            linked_list = LinkedlList()\n",
    "            linked_list.insert_at_beginnning(298)\n",
    "            print(linked_list)\n"
   ]
  }
 ],
 "metadata": {
  "kernelspec": {
   "display_name": "Python 3",
   "language": "python",
   "name": "python3"
  },
  "language_info": {
   "codemirror_mode": {
    "name": "ipython",
    "version": 3
   },
   "file_extension": ".py",
   "mimetype": "text/x-python",
   "name": "python",
   "nbconvert_exporter": "python",
   "pygments_lexer": "ipython3",
   "version": "3.13.7"
  }
 },
 "nbformat": 4,
 "nbformat_minor": 5
}
