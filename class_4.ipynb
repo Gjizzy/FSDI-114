{
 "cells": [
  {
   "cell_type": "markdown",
   "id": "1f6da982",
   "metadata": {},
   "source": [
    "# Class 4 - Stacks and Queues\n",
    "\n",
    "## Stacks\n",
    "A stack is an ordered collection of elements wher items are added and removed from one end, commonly referred to as the \"top\". The ordering principle is referred to as LIFO (Last in, First out)\n",
    "\n",
    "## Queues\n",
    "A queue is an ordered collection of elements where items are added and removed from **opposite** end, commonly referred to as the \"front\" and \"back\" or \"rear\" of the queue. The ordering principle is referred to as FIFO (first in, first out) or \"first come first served\"."
   ]
  },
  {
   "cell_type": "code",
   "execution_count": 1,
   "id": "7c580910",
   "metadata": {},
   "outputs": [
    {
     "ename": "SyntaxError",
     "evalue": "invalid syntax (805235884.py, line 2)",
     "output_type": "error",
     "traceback": [
      "  \u001b[36mCell\u001b[39m\u001b[36m \u001b[39m\u001b[32mIn[1]\u001b[39m\u001b[32m, line 2\u001b[39m\n\u001b[31m    \u001b[39m\u001b[31mdef__init__(self):\u001b[39m\n                     ^\n\u001b[31mSyntaxError\u001b[39m\u001b[31m:\u001b[39m invalid syntax\n"
     ]
    }
   ],
   "source": [
    "class Stack:\n",
    "    def__init__(self):\n",
    "    self.items = ()\n",
    "\n",
    "    def push(self, value):\n",
    "        self.items.append(value)\n",
    "\n",
    "        def pop(self):\n",
    "            return self.items.pop()\n",
    "        \n",
    "        def size(self):\n",
    "            return len(self.items)\n",
    "        \n",
    "        def peek(self):\n",
    "            return self.items[len(self.items)-1]\n",
    "        \n",
    "        def is_empty(self):\n",
    "            return self.item == []\n",
    "        \n",
    "        stack = Stack()\n",
    "        stack.push(30)\n",
    "        stack.push(33)\n",
    "        stack.push(25)\n",
    "        print(stack.peek())\n",
    "        print(stack.pop())\n",
    "        print(stack.peek())\n",
    "        print(stack.items)\n",
    "        stack.is_empty()"
   ]
  },
  {
   "cell_type": "code",
   "execution_count": 2,
   "id": "5c6757ab",
   "metadata": {},
   "outputs": [
    {
     "ename": "SyntaxError",
     "evalue": "invalid syntax (3583093088.py, line 2)",
     "output_type": "error",
     "traceback": [
      "  \u001b[36mCell\u001b[39m\u001b[36m \u001b[39m\u001b[32mIn[2]\u001b[39m\u001b[32m, line 2\u001b[39m\n\u001b[31m    \u001b[39m\u001b[31mdef__init__(self):\u001b[39m\n                     ^\n\u001b[31mSyntaxError\u001b[39m\u001b[31m:\u001b[39m invalid syntax\n"
     ]
    }
   ],
   "source": [
    "class Queue:\n",
    "    def__init__(self):\n",
    "    self.items = []\n",
    "\n",
    "    def enqueue(self, element):\n",
    "        self.items.insert(0, element)\n",
    "\n",
    "    def dequtue(self):\n",
    "        return self.items.pop()\n",
    "        \n",
    "    def peek(self):\n",
    "        return self.item(len(self.items-1)\n",
    "                             \n",
    "    def size(self):\n",
    "        return len(self.items == []\n",
    "                   \n",
    "class_queue = Queue()\n",
    "class_queue.enqueue(\"James\")\n",
    "class_queue.enqueue(\"Tatiana\")\n",
    "class_queue.enqueue(\"David\")\n",
    "class_queue.enqueue(\"Alexander\")\n",
    "class_queue.enqueue(\"Britney\")\n",
    "class_queue.enqueue(\"Yaquelin\")   \n",
    "class_queue.enqueue(\"Ray\")\n",
    "class_queue.enqueue(\"Maryna\")\n",
    "print(class_queue.items)\n",
    "class_queue.peek()\n",
    "class_queue.dequenue()\n",
    "class_queue.peek()\n",
    "class_queue.dequeue()\n",
    "class_queue.peek()\n",
    "class_queue.dequeue()\n",
    "class_queue.peek()\n",
    "class_dequeue()\n",
    "class_queue.peek()\n",
    "class_queue.dequeue()\n",
    "class_queue.peek()"
   ]
  },
  {
   "cell_type": "code",
   "execution_count": null,
   "id": "1c39a785",
   "metadata": {},
   "outputs": [],
   "source": [
    "#Custom Stack Class\n",
    "\n",
    "class Node:\n",
    "    def__init__(self.data):\n",
    "    self.data = data\n",
    "    self.below = None\n",
    "\n",
    "\n",
    "class CustomStack:\n",
    "    def__intit__(self):\n",
    "        self.top = None\n",
    "    \n",
    "    def push(self.value):\n",
    "        if not self.top:\n",
    "            raise IndexError(\"Stack is Empty\")\n",
    "        else:\n",
    "            current = self.top.data\n",
    "            self.top = self.top.below\n",
    "            return current\n",
    "        \n",
    "        def is_empty(self):\n",
    "            return self.top == None\n",
    "        \n",
    "        custom_stack = CustomStack()\n",
    "        custom_stack.push(60)\n",
    "        custom_stack.push(70)\n",
    "        custom_stack.push(20)\n",
    "        custom_stack.pop()\n",
    "        custom_stack.pop()\n",
    "        custom_stack.pop()\n",
    "        custom_stack.pop()\n"
   ]
  }
 ],
 "metadata": {
  "kernelspec": {
   "display_name": "Python 3",
   "language": "python",
   "name": "python3"
  },
  "language_info": {
   "codemirror_mode": {
    "name": "ipython",
    "version": 3
   },
   "file_extension": ".py",
   "mimetype": "text/x-python",
   "name": "python",
   "nbconvert_exporter": "python",
   "pygments_lexer": "ipython3",
   "version": "3.13.7"
  }
 },
 "nbformat": 4,
 "nbformat_minor": 5
}
